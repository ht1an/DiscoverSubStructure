{
 "cells": [
  {
   "cell_type": "markdown",
   "metadata": {},
   "source": [
    "# this is used to test matched filter method"
   ]
  },
  {
   "cell_type": "code",
   "execution_count": 1,
   "metadata": {},
   "outputs": [],
   "source": [
    "%matplotlib inline\n",
    "import astropy.io.fits as fits\n",
    "from astropy.table import Table\n",
    "import scipy.ndimage as sn\n",
    "import numpy as np\n",
    "import csv\n",
    "import CoordinateConversion as CC\n",
    "import matplotlib.pyplot as plt\n",
    "from matplotlib import cm\n",
    "# import pandas as pd\n",
    "import math as m\n",
    "import PyAstronomy as PA\n",
    "from PyAstronomy import pyasl as PAP\n",
    "from scipy import signal\n",
    "import scipy.optimize as SO\n",
    "import galpy.util.bovy_coords as gub\n",
    "import finder as fd"
   ]
  },
  {
   "cell_type": "code",
   "execution_count": 2,
   "metadata": {},
   "outputs": [],
   "source": [
    "# progenitor 1 age 10.1174 gyr\n",
    "\n",
    "dpath = '/Users/htian/Documents/work/data/SDSS/'\n",
    "dpath_t = '/Users/htian/Documents/work/data/MF/'\n",
    "dname = 'sdss.fits'\n",
    "outputfn = 'Palomar5_3.fits'\n",
    "fn_t = 'progenitor.1.dat'\n",
    "\n"
   ]
  },
  {
   "cell_type": "code",
   "execution_count": 3,
   "metadata": {
    "scrolled": false
   },
   "outputs": [],
   "source": [
    "# Dt = fits.open(dpath+dname)\n",
    "# Dsdss= Dt[1].data\n",
    "# ra = Dsdss['Alpha']\n",
    "# dec = Dsdss['Delta']\n",
    "# gmag = Dsdss['sdss_g']\n",
    "# rmag = Dsdss['sdss_r']\n",
    "# Dt.close()\n",
    "# # select the stars around Palomar 5 GC and save the selected data into fits file\n",
    "# ind = (np.abs(ra-229)<3) & (np.abs(dec<3))\n",
    "# n = len(ra[ind])\n",
    "# c1 = fits.Column(name=\"ra\",array=ra[ind],format='F')\n",
    "# c2 = fits.Column(name=\"dec\",array=dec[ind],format='F')\n",
    "# c3 = fits.Column(name='gmag',array=gmag[ind],format='F')\n",
    "# c4 = fits.Column(name='rmag',array=rmag[ind],format='F')\n",
    "# output = fits.BinTableHDU.from_columns([c1,c2,c3,c4])\n",
    "# output.writeto(dpath+outputfn)"
   ]
  },
  {
   "cell_type": "code",
   "execution_count": 4,
   "metadata": {},
   "outputs": [],
   "source": [
    "DD = fits.open(dpath+outputfn)\n",
    "datap = DD[1].data\n",
    "rap = datap['ra']\n",
    "decp = datap['dec']\n",
    "gmagp = datap['gmag']\n",
    "rmagp = datap['rmag']\n",
    "gmrp = gmagp-rmagp"
   ]
  },
  {
   "cell_type": "code",
   "execution_count": 5,
   "metadata": {
    "collapsed": true
   },
   "outputs": [],
   "source": [
    "# read template file\n",
    "rmagt,gmagt,yt,xt,zt = np.loadtxt(dpath_t+fn_t,skiprows=39,unpack=True,delimiter=',',\\\n",
    "                  dtype={'names':('rmagt','gmagt','yt','xt','zt'),\\\n",
    "                        'formats':(float,float,float,float,float)},\\\n",
    "                                 usecols=(1,8,28,29,30))\n",
    "gmrt = gmagt - rmagt"
   ]
  },
  {
   "cell_type": "code",
   "execution_count": 6,
   "metadata": {},
   "outputs": [
    {
     "name": "stdout",
     "output_type": "stream",
     "text": [
      "(20, 20)\n"
     ]
    }
   ],
   "source": [
    "#  generate the template\n",
    "bs_c = 0.1\n",
    "bs_m = 0.5\n",
    "min_c,max_c = -0.5,1.5\n",
    "min_m,max_m = 12,22\n",
    "n_c = int((max_c-min_c)/bs_c)\n",
    "n_m = int((max_m-min_m)/bs_m)\n",
    "m_array = np.linspace(min_m,max_m,n_m+1)\n",
    "c_array = np.linspace(min_c,max_c,n_c+1)\n",
    "nTmp, xedges, yedge = np.histogram2d(gmagt,gmrt, bins=(m_array, c_array))\n",
    "sTmp = sn.gaussian_filter(nTmp,sigma=(0.25,0.25),order=0)\n",
    "print(np.shape(nTmp))"
   ]
  },
  {
   "cell_type": "code",
   "execution_count": 7,
   "metadata": {},
   "outputs": [
    {
     "data": {
      "text/plain": [
       "[-0.5, 1.5, 22, 12]"
      ]
     },
     "execution_count": 7,
     "metadata": {},
     "output_type": "execute_result"
    },
    {
     "data": {
      "image/png": "[encoded data removed]",
      "text/plain": [
       "<matplotlib.figure.Figure at 0x111631be0>"
      ]
     },
     "metadata": {},
     "output_type": "display_data"
    }
   ],
   "source": [
    "plt.plot(gmagt-rmagt,gmagt,'k.')\n",
    "plt.axis([-0.5,1.5,22,12])"
   ]
  },
  {
   "cell_type": "code",
   "execution_count": 8,
   "metadata": {},
   "outputs": [],
   "source": [
    "# # print(np.shape(nTmp0))\n",
    "# plt.contourf(c_array[:n_c]+bs_c/2,m_array[:n_m]+bs_m/2,nTmp[::-1,:],\\\n",
    "#             levels=np.linspace(0.1,100.1,11),cmap=plt.cm.gist_rainbow,vmin=0.1,vmax=100)\n",
    "# plt.colorbar()"
   ]
  },
  {
   "cell_type": "code",
   "execution_count": 9,
   "metadata": {},
   "outputs": [
    {
     "name": "stdout",
     "output_type": "stream",
     "text": [
      "126094\n",
      "21 21\n",
      "21 21\n",
      "(20, 20)\n"
     ]
    },
    {
     "data": {
      "text/plain": [
       "<matplotlib.colorbar.Colorbar at 0x11f616860>"
      ]
     },
     "execution_count": 9,
     "metadata": {},
     "output_type": "execute_result"
    },
    {
     "data": {
      "image/png": "[encoded data removed]",
      "text/plain": [
       "<matplotlib.figure.Figure at 0x11e9edf28>"
      ]
     },
     "metadata": {},
     "output_type": "display_data"
    }
   ],
   "source": [
    "indtbg = np.abs(decp)<1\n",
    "print(len(rap[indtbg]))\n",
    "T_Bg, xedges, yedges = np.histogram2d(gmagp[indtbg],gmrp[indtbg],bins=(m_array+2, c_array))\n",
    "sBg = sn.gaussian_filter(T_Bg/np.sum(T_Bg),sigma=(0.25,0.25),order=0)\n",
    "sBg = sBg/np.sum(sBg)#np.sum(nBg)\n",
    "print(len(xedges),len(yedges))\n",
    "print(len(c_array),len(m_array))\n",
    "print(np.shape(T_Bg))\n",
    "plt.contourf(yedges[:len(yedges)-1],xedges[:len(xedges)-1],T_Bg[::-1,:]/np.sum(T_Bg))\n",
    "plt.colorbar()"
   ]
  },
  {
   "cell_type": "code",
   "execution_count": 10,
   "metadata": {},
   "outputs": [],
   "source": [
    "n_background = 10\n",
    "bs_sky = 0.5\n",
    "min_ra,max_ra = 226,232\n",
    "min_dec,max_dec = -3,3\n",
    "n_ra = int((max_ra-min_ra)/bs_sky)\n",
    "n_dec = int((max_dec-min_dec)/bs_sky)\n",
    "ra_array = np.linspace(min_ra,max_ra,n_ra+1)\n",
    "dec_array = np.linspace(min_dec,max_dec,n_dec+1)\n",
    "mf = np.zeros((n_ra,n_dec))\n",
    "snmf = np.zeros((n_ra,n_dec))\n",
    "nnn = np.zeros((n_ra,n_dec))\n",
    "cmf = np.zeros((n_ra,n_dec))\n",
    "for i in range(0,n_ra):#(14,15):\n",
    "    c_ra= min_ra+i*bs_sky+bs_sky*0.5\n",
    "    for j in range(0,n_dec):#(14,15):\n",
    "        c_dec = min_dec+j*bs_sky+bs_sky*0.5\n",
    "        ind_a = np.zeros(len(rap))\n",
    "        ind_c = (np.abs(rap-c_ra)<(bs_sky*0.5)) & (np.abs(decp-c_dec)<(bs_sky*0.5))\n",
    "        ind_b = (np.abs(rap-c_ra)<(bs_sky*0.5*n_background)) & \\\n",
    "        (np.abs(decp-c_dec)<(bs_sky*0.5*n_background))\n",
    "        ind_a[ind_b] = 1    # the stars in the background bins\n",
    "        ind_a[ind_c] = 2    # the stars in the target bin\n",
    "#         nBg, xedges, yedge = np.histogram2d(gmagp[ind_a==1],gmrp[ind_a==1], \\\n",
    "#                                             bins=(m_array+2, c_array))\n",
    "        nTg, xedges, yedge = np.histogram2d(gmagp[ind_a==2],gmrp[ind_a==2], \\\n",
    "                                            bins=(m_array+2, c_array))\n",
    "#         sBg = sn.gaussian_filter(nBg/np.sum(nBg),sigma=(0.25,0.25),order=0)\n",
    "#         sBg = Bg/np.sum(sBg)*np.sum(nTg)#np.sum(nBg)\n",
    "        mf[i,j],snmf[i,j] = fd.Matched_filter(nTg,nTmp*1.0/np.sum(nTmp),sBg*np.sum(nTg),\\\n",
    "                                    binsize=[bs_c,bs_m])\n",
    "        nnn[i,j] = len(rap[ind_c])\n",
    "        res = nTg-sBg\n",
    "        res[res<0]=0\n",
    "        if np.sum(res)>0:\n",
    "            cmf[i,j] = np.max(signal.convolve2d(res/np.sum(res),nTmp*1.0/np.sum(nTmp),mode='full',\\\n",
    "                                           boundary='symm'))\n",
    "#         plt.contourf(np.log10(nTg+1))\n",
    "#         plt.colorbar()\n",
    "#         plt.show()\n",
    "#         plt.contourf(np.log10(nTmp/np.sum(nTmp)+1))\n",
    "#         plt.colorbar()\n",
    "#         plt.show()\n",
    "#         plt.contourf(np.log10(sBg+1))\n",
    "#         plt.colorbar()\n",
    "#         plt.show()\n",
    "#         print(mf[i,j])"
   ]
  },
  {
   "cell_type": "code",
   "execution_count": 21,
   "metadata": {},
   "outputs": [
    {
     "name": "stdout",
     "output_type": "stream",
     "text": [
      "838.82425076 838.824354172\n"
     ]
    },
    {
     "data": {
      "image/png": "[encoded data removed]",
      "text/plain": [
       "<matplotlib.figure.Figure at 0x1200265c0>"
      ]
     },
     "metadata": {},
     "output_type": "display_data"
    }
   ],
   "source": [
    "plt.contourf((mf-838.824)*1e6,cmap=plt.cm.gist_rainbow,\\\n",
    "             vmin=280,vmax=360,levels=np.linspace(280,360,100))#,np.linspace(830,850,101))\n",
    "plt.colorbar()\n",
    "print(np.min(mf),np.max(mf))"
   ]
  },
  {
   "cell_type": "code",
   "execution_count": 12,
   "metadata": {},
   "outputs": [],
   "source": [
    "# print(np.max(cmf),np.min(cmf))\n",
    "# plt.contourf(nTmp*1.0/np.sum(nTmp))\n",
    "# plt.colorbar()\n",
    "# plt.show()\n",
    "# plt.contourf(nBg,vmin=1)\n",
    "# plt.colorbar()\n",
    "# plt.show()\n",
    "# plt.contourf(cmf,levels=np.linspace(0.01,0.1,30))\n",
    "# # plt.contourf(np.log10(cmf-np.min(cmf)+1),cmap=plt.cm.gist_rainbow,vmin=3,vmax=4,\\\n",
    "# #              levels=np.linspace(3,4,11))\n",
    "# plt.colorbar()\n",
    "# plt.show()\n",
    "# # print(np.max(nBg))\n"
   ]
  },
  {
   "cell_type": "code",
   "execution_count": 13,
   "metadata": {},
   "outputs": [
    {
     "data": {
      "image/png": "[encoded data removed]",
      "text/plain": [
       "<matplotlib.figure.Figure at 0x11e9d66d8>"
      ]
     },
     "metadata": {},
     "output_type": "display_data"
    }
   ],
   "source": [
    "nRD, xedges, yedge = np.histogram2d(decp,rap,bins=(dec_array,ra_array))\n",
    "plt.contourf(np.log10(nRD+1),levels=np.linspace(2.5,2.7,31),cmap=plt.cm.gist_rainbow)\n",
    "plt.colorbar()\n",
    "plt.show()\n",
    "# plt.hist(np.log10(nRD+1),bins=20)"
   ]
  },
  {
   "cell_type": "code",
   "execution_count": 14,
   "metadata": {},
   "outputs": [
    {
     "data": {
      "text/plain": [
       "<matplotlib.contour.QuadContourSet at 0x121374c88>"
      ]
     },
     "execution_count": 14,
     "metadata": {},
     "output_type": "execute_result"
    },
    {
     "data": {
      "image/png": "[encoded data removed]",
      "text/plain": [
       "<matplotlib.figure.Figure at 0x1200a4780>"
      ]
     },
     "metadata": {},
     "output_type": "display_data"
    }
   ],
   "source": [
    "plt.contourf(nnn[:,:])"
   ]
  },
  {
   "cell_type": "code",
   "execution_count": 15,
   "metadata": {},
   "outputs": [
    {
     "name": "stdout",
     "output_type": "stream",
     "text": [
      "17055870.3845\n",
      "8685.0\n"
     ]
    }
   ],
   "source": [
    "# plt.contourf(mf[:,:])\n",
    "# plt.show()\n",
    "# print(np.shape(mf))\n",
    "# plt.contourf(snmf)\n",
    "# plt.show()\n",
    "print(np.max(snmf))\n",
    "print(np.sum(nTmp))"
   ]
  },
  {
   "cell_type": "code",
   "execution_count": 16,
   "metadata": {
    "collapsed": true
   },
   "outputs": [],
   "source": [
    "yedges = [0, 2, 3, 4, 6]\n",
    "xedges = [0, 1, 3, 5]\n",
    "x = np.random.normal(2, 1, 100)\n",
    "y = np.random.normal(1, 1, 100)\n",
    "H, xedges, yedges = np.histogram2d(x, y, bins=(xedges, yedges))"
   ]
  },
  {
   "cell_type": "code",
   "execution_count": 17,
   "metadata": {},
   "outputs": [
    {
     "name": "stdout",
     "output_type": "stream",
     "text": [
      "(20, 20)\n"
     ]
    },
    {
     "ename": "NameError",
     "evalue": "name 'nBg' is not defined",
     "output_type": "error",
     "traceback": [
      "\u001b[0;31m---------------------------------------------------------------------------\u001b[0m",
      "\u001b[0;31mNameError\u001b[0m                                 Traceback (most recent call last)",
      "\u001b[0;32m<ipython-input-17-db0290b1849a>\u001b[0m in \u001b[0;36m<module>\u001b[0;34m()\u001b[0m\n\u001b[1;32m      1\u001b[0m \u001b[0mprint\u001b[0m\u001b[0;34m(\u001b[0m\u001b[0mnp\u001b[0m\u001b[0;34m.\u001b[0m\u001b[0mshape\u001b[0m\u001b[0;34m(\u001b[0m\u001b[0;34m(\u001b[0m\u001b[0mnTmp\u001b[0m\u001b[0;34m**\u001b[0m\u001b[0;36m2\u001b[0m\u001b[0;34m)\u001b[0m\u001b[0;34m)\u001b[0m\u001b[0;34m)\u001b[0m\u001b[0;34m\u001b[0m\u001b[0m\n\u001b[0;32m----> 2\u001b[0;31m \u001b[0mprint\u001b[0m\u001b[0;34m(\u001b[0m\u001b[0mnp\u001b[0m\u001b[0;34m.\u001b[0m\u001b[0mshape\u001b[0m\u001b[0;34m(\u001b[0m\u001b[0mnBg\u001b[0m\u001b[0;34m/\u001b[0m\u001b[0;34m(\u001b[0m\u001b[0mnTmp\u001b[0m\u001b[0;34m+\u001b[0m\u001b[0;36m1\u001b[0m\u001b[0;34m)\u001b[0m\u001b[0;34m)\u001b[0m\u001b[0;34m)\u001b[0m\u001b[0;34m\u001b[0m\u001b[0m\n\u001b[0m",
      "\u001b[0;31mNameError\u001b[0m: name 'nBg' is not defined"
     ]
    }
   ],
   "source": [
    "print(np.shape((nTmp**2)))\n",
    "print(np.shape(nBg/(nTmp+1)))"
   ]
  },
  {
   "cell_type": "code",
   "execution_count": null,
   "metadata": {},
   "outputs": [],
   "source": [
    "a = nTmp*1.0\n",
    "b = signal.convolve2d(a,a,mode='full',boundary='symm')"
   ]
  },
  {
   "cell_type": "code",
   "execution_count": null,
   "metadata": {},
   "outputs": [],
   "source": [
    "a.shape\n",
    "b.shape"
   ]
  },
  {
   "cell_type": "code",
   "execution_count": null,
   "metadata": {
    "collapsed": true
   },
   "outputs": [],
   "source": []
  }
 ],
 "metadata": {
  "kernelspec": {
   "display_name": "Python 3",
   "language": "python",
   "name": "python3"
  },
  "language_info": {
   "codemirror_mode": {
    "name": "ipython",
    "version": 3
   },
   "file_extension": ".py",
   "mimetype": "text/x-python",
   "name": "python",
   "nbconvert_exporter": "python",
   "pygments_lexer": "ipython3",
   "version": "3.6.1"
  }
 },
 "nbformat": 4,
 "nbformat_minor": 2
}
